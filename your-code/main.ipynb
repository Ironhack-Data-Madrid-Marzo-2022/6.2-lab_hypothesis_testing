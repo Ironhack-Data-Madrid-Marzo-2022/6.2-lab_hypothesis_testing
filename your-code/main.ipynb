{
 "cells": [
  {
   "cell_type": "markdown",
   "metadata": {
    "pycharm": {
     "name": "#%% md\n"
    }
   },
   "source": [
    "# Before your start:\n",
    "- Read the README.md file\n",
    "- Comment as much as you can and use the resources (README.md file)\n",
    "- Happy learning!"
   ]
  },
  {
   "cell_type": "code",
   "execution_count": 1,
   "metadata": {
    "pycharm": {
     "name": "#%%\n"
    }
   },
   "outputs": [],
   "source": [
    "# import numpy and pandas\n",
    "import numpy as np\n",
    "import pandas as pd"
   ]
  },
  {
   "cell_type": "markdown",
   "metadata": {
    "pycharm": {
     "name": "#%% md\n"
    }
   },
   "source": [
    "# Challenge 1 - Exploring the Data\n",
    "\n",
    "In this challenge, we will examine all salaries of employees of the City of Chicago. We will start by loading the dataset and examining its contents"
   ]
  },
  {
   "cell_type": "code",
   "execution_count": 2,
   "metadata": {
    "pycharm": {
     "name": "#%%\n"
    }
   },
   "outputs": [],
   "source": [
    "# Run this code:\n",
    "\n",
    "salaries = pd.read_csv('../Current_Employee_Names__Salaries__and_Position_Titles.csv')"
   ]
  },
  {
   "cell_type": "markdown",
   "metadata": {
    "pycharm": {
     "name": "#%% md\n"
    }
   },
   "source": [
    "Examine the `salaries` dataset using the `head` function below."
   ]
  },
  {
   "cell_type": "code",
   "execution_count": 3,
   "metadata": {
    "pycharm": {
     "name": "#%%\n"
    }
   },
   "outputs": [
    {
     "data": {
      "text/plain": "                  Name                              Job Titles  \\\n0    AARON,  JEFFERY M                                SERGEANT   \n1      AARON,  KARINA   POLICE OFFICER (ASSIGNED AS DETECTIVE)   \n2  AARON,  KIMBERLEI R                CHIEF CONTRACT EXPEDITER   \n3  ABAD JR,  VICENTE M                       CIVIL ENGINEER IV   \n4    ABASCAL,  REECE E             TRAFFIC CONTROL AIDE-HOURLY   \n\n         Department Full or Part-Time Salary or Hourly  Typical Hours  \\\n0            POLICE                 F           Salary            NaN   \n1            POLICE                 F           Salary            NaN   \n2  GENERAL SERVICES                 F           Salary            NaN   \n3       WATER MGMNT                 F           Salary            NaN   \n4              OEMC                 P           Hourly           20.0   \n\n   Annual Salary  Hourly Rate  \n0       101442.0          NaN  \n1        94122.0          NaN  \n2       101592.0          NaN  \n3       110064.0          NaN  \n4            NaN        19.86  ",
      "text/html": "<div>\n<style scoped>\n    .dataframe tbody tr th:only-of-type {\n        vertical-align: middle;\n    }\n\n    .dataframe tbody tr th {\n        vertical-align: top;\n    }\n\n    .dataframe thead th {\n        text-align: right;\n    }\n</style>\n<table border=\"1\" class=\"dataframe\">\n  <thead>\n    <tr style=\"text-align: right;\">\n      <th></th>\n      <th>Name</th>\n      <th>Job Titles</th>\n      <th>Department</th>\n      <th>Full or Part-Time</th>\n      <th>Salary or Hourly</th>\n      <th>Typical Hours</th>\n      <th>Annual Salary</th>\n      <th>Hourly Rate</th>\n    </tr>\n  </thead>\n  <tbody>\n    <tr>\n      <th>0</th>\n      <td>AARON,  JEFFERY M</td>\n      <td>SERGEANT</td>\n      <td>POLICE</td>\n      <td>F</td>\n      <td>Salary</td>\n      <td>NaN</td>\n      <td>101442.0</td>\n      <td>NaN</td>\n    </tr>\n    <tr>\n      <th>1</th>\n      <td>AARON,  KARINA</td>\n      <td>POLICE OFFICER (ASSIGNED AS DETECTIVE)</td>\n      <td>POLICE</td>\n      <td>F</td>\n      <td>Salary</td>\n      <td>NaN</td>\n      <td>94122.0</td>\n      <td>NaN</td>\n    </tr>\n    <tr>\n      <th>2</th>\n      <td>AARON,  KIMBERLEI R</td>\n      <td>CHIEF CONTRACT EXPEDITER</td>\n      <td>GENERAL SERVICES</td>\n      <td>F</td>\n      <td>Salary</td>\n      <td>NaN</td>\n      <td>101592.0</td>\n      <td>NaN</td>\n    </tr>\n    <tr>\n      <th>3</th>\n      <td>ABAD JR,  VICENTE M</td>\n      <td>CIVIL ENGINEER IV</td>\n      <td>WATER MGMNT</td>\n      <td>F</td>\n      <td>Salary</td>\n      <td>NaN</td>\n      <td>110064.0</td>\n      <td>NaN</td>\n    </tr>\n    <tr>\n      <th>4</th>\n      <td>ABASCAL,  REECE E</td>\n      <td>TRAFFIC CONTROL AIDE-HOURLY</td>\n      <td>OEMC</td>\n      <td>P</td>\n      <td>Hourly</td>\n      <td>20.0</td>\n      <td>NaN</td>\n      <td>19.86</td>\n    </tr>\n  </tbody>\n</table>\n</div>"
     },
     "execution_count": 3,
     "metadata": {},
     "output_type": "execute_result"
    }
   ],
   "source": [
    "salaries.head()\n"
   ]
  },
  {
   "cell_type": "markdown",
   "metadata": {
    "pycharm": {
     "name": "#%% md\n"
    }
   },
   "source": [
    "We see from looking at the `head` function that there is quite a bit of missing data. Let's examine how much missing data is in each column. Produce this output in the cell below"
   ]
  },
  {
   "cell_type": "code",
   "execution_count": 4,
   "metadata": {
    "pycharm": {
     "name": "#%%\n"
    }
   },
   "outputs": [
    {
     "data": {
      "text/plain": "Name                     0\nJob Titles               0\nDepartment               0\nFull or Part-Time        0\nSalary or Hourly         0\nTypical Hours        25161\nAnnual Salary         8022\nHourly Rate          25161\ndtype: int64"
     },
     "execution_count": 4,
     "metadata": {},
     "output_type": "execute_result"
    }
   ],
   "source": [
    "salaries.isnull().sum()\n"
   ]
  },
  {
   "cell_type": "markdown",
   "metadata": {
    "pycharm": {
     "name": "#%% md\n"
    }
   },
   "source": [
    "Let's also look at the count of hourly vs. salaried employees. Write the code in the cell below"
   ]
  },
  {
   "cell_type": "code",
   "execution_count": 6,
   "outputs": [
    {
     "data": {
      "text/plain": "Salary    25161\nHourly     8022\nName: Salary or Hourly, dtype: int64"
     },
     "execution_count": 6,
     "metadata": {},
     "output_type": "execute_result"
    }
   ],
   "source": [
    "salaries['Salary or Hourly'].value_counts()\n"
   ],
   "metadata": {
    "collapsed": false,
    "pycharm": {
     "name": "#%%\n"
    }
   }
  },
  {
   "cell_type": "markdown",
   "metadata": {
    "pycharm": {
     "name": "#%% md\n"
    }
   },
   "source": [
    "What this information indicates is that the table contains information about two types of employees - salaried and hourly. Some columns apply only to one type of employee while other columns only apply to another kind. This is why there are so many missing values. Therefore, we will not do anything to handle the missing values."
   ]
  },
  {
   "cell_type": "markdown",
   "metadata": {
    "pycharm": {
     "name": "#%% md\n"
    }
   },
   "source": [
    "There are different departments in the city. List all departments and the count of employees in each department."
   ]
  },
  {
   "cell_type": "code",
   "execution_count": 7,
   "metadata": {
    "pycharm": {
     "name": "#%%\n"
    }
   },
   "outputs": [
    {
     "data": {
      "text/plain": "POLICE                   13414\nFIRE                      4641\nSTREETS & SAN             2198\nOEMC                      2102\nWATER MGMNT               1879\nAVIATION                  1629\nTRANSPORTN                1140\nPUBLIC LIBRARY            1015\nGENERAL SERVICES           980\nFAMILY & SUPPORT           615\nFINANCE                    560\nHEALTH                     488\nCITY COUNCIL               411\nLAW                        407\nBUILDINGS                  269\nCOMMUNITY DEVELOPMENT      207\nBUSINESS AFFAIRS           171\nCOPA                       116\nBOARD OF ELECTION          107\nDoIT                        99\nPROCUREMENT                 92\nINSPECTOR GEN               87\nMAYOR'S OFFICE              85\nCITY CLERK                  84\nANIMAL CONTRL               81\nHUMAN RESOURCES             79\nCULTURAL AFFAIRS            65\nBUDGET & MGMT               46\nADMIN HEARNG                39\nDISABILITIES                28\nTREASURER                   22\nHUMAN RELATIONS             16\nBOARD OF ETHICS              8\nPOLICE BOARD                 2\nLICENSE APPL COMM            1\nName: Department, dtype: int64"
     },
     "execution_count": 7,
     "metadata": {},
     "output_type": "execute_result"
    }
   ],
   "source": [
    "salaries['Department'].value_counts()"
   ]
  },
  {
   "cell_type": "markdown",
   "metadata": {
    "pycharm": {
     "name": "#%% md\n"
    }
   },
   "source": [
    "# Challenge 2 - Hypothesis Tests\n",
    "\n",
    "In this section of the lab, we will test whether the hourly wage of all hourly workers is significantly different from $30/hr. Import the correct one sample test function from scipy and perform the hypothesis test for a 95% two sided confidence interval."
   ]
  },
  {
   "cell_type": "code",
   "execution_count": 9,
   "metadata": {
    "pycharm": {
     "name": "#%%\n"
    }
   },
   "outputs": [
    {
     "data": {
      "text/plain": "Ttest_1sampResult(statistic=20.6198057854942, pvalue=4.3230240486229894e-92)"
     },
     "execution_count": 9,
     "metadata": {},
     "output_type": "execute_result"
    }
   ],
   "source": [
    "import scipy.stats as stats\n",
    "stats.ttest_1samp(salaries[salaries['Salary or Hourly'] == 'Hourly']['Hourly Rate'], 30)\n",
    "#Reject the null hypothesis that the mean hourly wage is 30."
   ]
  },
  {
   "cell_type": "markdown",
   "metadata": {
    "pycharm": {
     "name": "#%% md\n"
    }
   },
   "source": [
    "We are also curious about salaries in the police force. The chief of police in Chicago claimed in a press briefing that salaries this year are higher than last year's mean of $86000/year a year for all salaried employees. Test this one sided hypothesis using a 95% confidence interval.\n",
    "\n",
    "Hint: A one tailed test has a p-value that is half of the two tailed p-value. If our hypothesis is greater than, then to reject, the test statistic must also be positive."
   ]
  },
  {
   "cell_type": "code",
   "execution_count": 26,
   "metadata": {
    "pycharm": {
     "name": "#%%\n"
    }
   },
   "outputs": [
    {
     "data": {
      "text/plain": "Ttest_1sampResult(statistic=3.081997005712994, pvalue=0.9989698298224517)"
     },
     "execution_count": 26,
     "metadata": {},
     "output_type": "execute_result"
    }
   ],
   "source": [
    "stats.ttest_1samp(salaries[salaries['Department'] == 'POLICE']['Annual Salary'].dropna(), 86000, alternative='less')\n",
    "#Reject the null hypothesis that the mean annual salary is $86000."
   ]
  },
  {
   "cell_type": "code",
   "execution_count": 27,
   "outputs": [
    {
     "data": {
      "text/plain": "                 count          mean           std      min      25%      50%  \\\nTypical Hours   8022.0     34.507604      9.252077    10.00     20.0     40.0   \nAnnual Salary  25161.0  86786.999790  21041.354602  7200.00  76266.0  90024.0   \nHourly Rate     8022.0     32.788558     12.112573     2.65     21.2     35.6   \n\n                   75%       max  \nTypical Hours     40.0      40.0  \nAnnual Salary  96060.0  300000.0  \nHourly Rate       40.2     109.0  ",
      "text/html": "<div>\n<style scoped>\n    .dataframe tbody tr th:only-of-type {\n        vertical-align: middle;\n    }\n\n    .dataframe tbody tr th {\n        vertical-align: top;\n    }\n\n    .dataframe thead th {\n        text-align: right;\n    }\n</style>\n<table border=\"1\" class=\"dataframe\">\n  <thead>\n    <tr style=\"text-align: right;\">\n      <th></th>\n      <th>count</th>\n      <th>mean</th>\n      <th>std</th>\n      <th>min</th>\n      <th>25%</th>\n      <th>50%</th>\n      <th>75%</th>\n      <th>max</th>\n    </tr>\n  </thead>\n  <tbody>\n    <tr>\n      <th>Typical Hours</th>\n      <td>8022.0</td>\n      <td>34.507604</td>\n      <td>9.252077</td>\n      <td>10.00</td>\n      <td>20.0</td>\n      <td>40.0</td>\n      <td>40.0</td>\n      <td>40.0</td>\n    </tr>\n    <tr>\n      <th>Annual Salary</th>\n      <td>25161.0</td>\n      <td>86786.999790</td>\n      <td>21041.354602</td>\n      <td>7200.00</td>\n      <td>76266.0</td>\n      <td>90024.0</td>\n      <td>96060.0</td>\n      <td>300000.0</td>\n    </tr>\n    <tr>\n      <th>Hourly Rate</th>\n      <td>8022.0</td>\n      <td>32.788558</td>\n      <td>12.112573</td>\n      <td>2.65</td>\n      <td>21.2</td>\n      <td>35.6</td>\n      <td>40.2</td>\n      <td>109.0</td>\n    </tr>\n  </tbody>\n</table>\n</div>"
     },
     "execution_count": 27,
     "metadata": {},
     "output_type": "execute_result"
    }
   ],
   "source": [
    "salaries.describe().T"
   ],
   "metadata": {
    "collapsed": false,
    "pycharm": {
     "name": "#%%\n"
    }
   }
  },
  {
   "cell_type": "markdown",
   "metadata": {
    "pycharm": {
     "name": "#%% md\n"
    }
   },
   "source": [
    "Using the `crosstab` function, find the department that has the most hourly workers. "
   ]
  },
  {
   "cell_type": "code",
   "execution_count": 43,
   "metadata": {
    "pycharm": {
     "name": "#%%\n"
    }
   },
   "outputs": [
    {
     "data": {
      "text/plain": "Salary or Hourly  Hourly\nDepartment              \nSTREETS & SAN       1862",
      "text/html": "<div>\n<style scoped>\n    .dataframe tbody tr th:only-of-type {\n        vertical-align: middle;\n    }\n\n    .dataframe tbody tr th {\n        vertical-align: top;\n    }\n\n    .dataframe thead th {\n        text-align: right;\n    }\n</style>\n<table border=\"1\" class=\"dataframe\">\n  <thead>\n    <tr style=\"text-align: right;\">\n      <th>Salary or Hourly</th>\n      <th>Hourly</th>\n    </tr>\n    <tr>\n      <th>Department</th>\n      <th></th>\n    </tr>\n  </thead>\n  <tbody>\n    <tr>\n      <th>STREETS &amp; SAN</th>\n      <td>1862</td>\n    </tr>\n  </tbody>\n</table>\n</div>"
     },
     "execution_count": 43,
     "metadata": {},
     "output_type": "execute_result"
    }
   ],
   "source": [
    "Hours = pd.crosstab(salaries['Department'], salaries['Salary or Hourly'][salaries['Salary or Hourly'] == 'Hourly'])\n",
    "Hours[Hours.Hourly== Hours.Hourly.max()]"
   ]
  },
  {
   "cell_type": "markdown",
   "metadata": {
    "pycharm": {
     "name": "#%% md\n"
    }
   },
   "source": [
    "The workers from the department with the most hourly workers have complained that their hourly wage is less than $35/hour. Using a one sample t-test, test this one-sided hypothesis at the 95% confidence level."
   ]
  },
  {
   "cell_type": "code",
   "execution_count": 54,
   "metadata": {
    "pycharm": {
     "name": "#%%\n"
    }
   },
   "outputs": [
    {
     "data": {
      "text/plain": "Ttest_1sampResult(statistic=-9.567447887848152, pvalue=1.0)"
     },
     "execution_count": 54,
     "metadata": {},
     "output_type": "execute_result"
    }
   ],
   "source": [
    "stats.ttest_1samp(salaries[salaries['Department'] == 'STREETS & SAN']['Hourly Rate'].dropna(), 35, alternative='greater')\n",
    "# Reject the null hypothesis that the mean hourly wage is greater than $35/hr."
   ]
  },
  {
   "cell_type": "markdown",
   "metadata": {
    "pycharm": {
     "name": "#%% md\n"
    }
   },
   "source": [
    "# Challenge 3 - Constructing Confidence Intervals\n",
    "\n",
    "While testing our hypothesis is a great way to gather empirical evidence for accepting or rejecting the hypothesis, another way to gather evidence is by creating a confidence interval. A confidence interval gives us information about the true mean of the population. So for a 95% confidence interval, we are 95% sure that the mean of the population is within the confidence interval. \n",
    ").\n",
    "\n",
    "To read more about confidence intervals, click [here](https://en.wikipedia.org/wiki/Confidence_interval).\n",
    "\n",
    "\n",
    "In the cell below, we will construct a 95% confidence interval for the mean hourly wage of all hourly workers. \n",
    "\n",
    "The confidence interval is computed in SciPy using the `t.interval` function. You can read more about this function [here](https://docs.scipy.org/doc/scipy-0.14.0/reference/generated/scipy.stats.t.html).\n",
    "\n",
    "To compute the confidence interval of the hourly wage, use the 0.95 for the confidence level, number of rows - 1 for degrees of freedom, the mean of the sample for the location parameter and the standard error for the scale. The standard error can be computed using [this](https://docs.scipy.org/doc/scipy/reference/generated/scipy.stats.sem.html) function in SciPy."
   ]
  },
  {
   "cell_type": "code",
   "execution_count": 57,
   "metadata": {
    "pycharm": {
     "name": "#%%\n"
    }
   },
   "outputs": [],
   "source": [
    "from scipy.stats import t"
   ]
  },
  {
   "cell_type": "code",
   "execution_count": 58,
   "outputs": [
    {
     "data": {
      "text/plain": "(32.52345834488425, 33.05365708767623)"
     },
     "execution_count": 58,
     "metadata": {},
     "output_type": "execute_result"
    }
   ],
   "source": [
    "t.interval(0.95, len(salaries[salaries['Salary or Hourly'] == 'Hourly']) - 1, salaries[salaries['Salary or Hourly'] == 'Hourly']['Hourly Rate'].mean(), salaries[salaries['Salary or Hourly'] == 'Hourly']['Hourly Rate'].sem())"
   ],
   "metadata": {
    "collapsed": false,
    "pycharm": {
     "name": "#%%\n"
    }
   }
  },
  {
   "cell_type": "markdown",
   "metadata": {
    "pycharm": {
     "name": "#%% md\n"
    }
   },
   "source": [
    "Now construct the 95% confidence interval for all salaried employeed in the police in the cell below."
   ]
  },
  {
   "cell_type": "code",
   "execution_count": 59,
   "metadata": {
    "pycharm": {
     "name": "#%%\n"
    }
   },
   "outputs": [
    {
     "data": {
      "text/plain": "(86177.05631531784, 86795.77269094894)"
     },
     "execution_count": 59,
     "metadata": {},
     "output_type": "execute_result"
    }
   ],
   "source": [
    "t.interval(0.95, len(salaries[salaries['Department'] == 'POLICE']['Annual Salary'].dropna()) - 1, salaries[salaries['Department'] == 'POLICE']['Annual Salary'].dropna().mean(), salaries[salaries['Department'] == 'POLICE']['Annual Salary'].dropna().sem())"
   ]
  },
  {
   "cell_type": "markdown",
   "metadata": {
    "pycharm": {
     "name": "#%% md\n"
    }
   },
   "source": [
    "# Challenge 4 - Hypothesis Tests of Proportions\n",
    "\n",
    "Another type of one sample test is a hypothesis test of proportions. In this test, we examine whether the proportion of a group in our sample is significantly different than a fraction. \n",
    "\n",
    "You can read more about one sample proportion tests [here](http://sphweb.bumc.bu.edu/otlt/MPH-Modules/BS/SAS/SAS6-CategoricalData/SAS6-CategoricalData2.html).\n",
    "\n",
    "In the cell below, use the `proportions_ztest` function from `statsmodels` to perform a hypothesis test that will determine whether the number of hourly workers in the City of Chicago is significantly different from 25% at the 95% confidence level."
   ]
  },
  {
   "cell_type": "code",
   "execution_count": 60,
   "outputs": [],
   "source": [
    "from statsmodels.stats.proportion import proportions_ztest"
   ],
   "metadata": {
    "collapsed": false,
    "pycharm": {
     "name": "#%%\n"
    }
   }
  },
  {
   "cell_type": "code",
   "execution_count": 71,
   "outputs": [
    {
     "data": {
      "text/plain": "(-3.5099964213703005, 0.9997759436375471)"
     },
     "execution_count": 71,
     "metadata": {},
     "output_type": "execute_result"
    }
   ],
   "source": [
    "hour = len(salaries[salaries['Salary or Hourly'] == 'Hourly'])\n",
    "total = len(salaries)\n",
    "proportions_ztest(hour, total, value=.25, alternative='larger')\n",
    "#Reject the null hypothesis that the proportion of hourly workers is 25%."
   ],
   "metadata": {
    "collapsed": false,
    "pycharm": {
     "name": "#%%\n"
    }
   }
  }
 ],
 "metadata": {
  "kernelspec": {
   "display_name": "Python 3",
   "language": "python",
   "name": "python3"
  },
  "language_info": {
   "codemirror_mode": {
    "name": "ipython",
    "version": 3
   },
   "file_extension": ".py",
   "mimetype": "text/x-python",
   "name": "python",
   "nbconvert_exporter": "python",
   "pygments_lexer": "ipython3",
   "version": "3.7.3"
  }
 },
 "nbformat": 4,
 "nbformat_minor": 2
}