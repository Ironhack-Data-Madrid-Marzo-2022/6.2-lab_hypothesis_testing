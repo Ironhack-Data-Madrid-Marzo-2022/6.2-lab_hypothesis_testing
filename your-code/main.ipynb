{
 "cells": [
  {
   "cell_type": "markdown",
   "metadata": {},
   "source": [
    "# Before your start:\n",
    "- Read the README.md file\n",
    "- Comment as much as you can and use the resources (README.md file)\n",
    "- Happy learning!"
   ]
  },
  {
   "cell_type": "code",
   "execution_count": 1,
   "metadata": {},
   "outputs": [],
   "source": [
    "# import numpy and pandas\n",
    "import pandas as pd\n",
    "import numpy as np"
   ]
  },
  {
   "cell_type": "markdown",
   "metadata": {},
   "source": [
    "# Challenge 1 - Exploring the Data\n",
    "\n",
    "In this challenge, we will examine all salaries of employees of the City of Chicago. We will start by loading the dataset and examining its contents"
   ]
  },
  {
   "cell_type": "code",
   "execution_count": 2,
   "metadata": {},
   "outputs": [],
   "source": [
    "# Run this code:\n",
    "salaries = pd.read_csv('../Current_Employee_Names__Salaries__and_Position_Titles.csv')"
   ]
  },
  {
   "cell_type": "markdown",
   "metadata": {},
   "source": [
    "Examine the `salaries` dataset using the `head` function below."
   ]
  },
  {
   "cell_type": "code",
   "execution_count": 5,
   "metadata": {},
   "outputs": [
    {
     "data": {
      "text/plain": "                        Name                              Job Titles  \\\n0          AARON,  JEFFERY M                                SERGEANT   \n1            AARON,  KARINA   POLICE OFFICER (ASSIGNED AS DETECTIVE)   \n2        AARON,  KIMBERLEI R                CHIEF CONTRACT EXPEDITER   \n3        ABAD JR,  VICENTE M                       CIVIL ENGINEER IV   \n4          ABASCAL,  REECE E             TRAFFIC CONTROL AIDE-HOURLY   \n...                      ...                                     ...   \n33178  ZYLINSKA,  KATARZYNA                           POLICE OFFICER   \n33179     ZYMANTAS,  LAURA C                          POLICE OFFICER   \n33180      ZYMANTAS,  MARK E                          POLICE OFFICER   \n33181    ZYRKOWSKI,  CARLO E                          POLICE OFFICER   \n33182   ZYSKOWSKI,  DARIUSZ                  CHIEF DATA BASE ANALYST   \n\n             Department Full or Part-Time Salary or Hourly  Typical Hours  \\\n0                POLICE                 F           Salary            NaN   \n1                POLICE                 F           Salary            NaN   \n2      GENERAL SERVICES                 F           Salary            NaN   \n3           WATER MGMNT                 F           Salary            NaN   \n4                  OEMC                 P           Hourly           20.0   \n...                 ...               ...              ...            ...   \n33178            POLICE                 F           Salary            NaN   \n33179            POLICE                 F           Salary            NaN   \n33180            POLICE                 F           Salary            NaN   \n33181            POLICE                 F           Salary            NaN   \n33182              DoIT                 F           Salary            NaN   \n\n       Annual Salary  Hourly Rate  \n0           101442.0          NaN  \n1            94122.0          NaN  \n2           101592.0          NaN  \n3           110064.0          NaN  \n4                NaN        19.86  \n...              ...          ...  \n33178        72510.0          NaN  \n33179        48078.0          NaN  \n33180        90024.0          NaN  \n33181        93354.0          NaN  \n33182       115932.0          NaN  \n\n[33183 rows x 8 columns]",
      "text/html": "<div>\n<style scoped>\n    .dataframe tbody tr th:only-of-type {\n        vertical-align: middle;\n    }\n\n    .dataframe tbody tr th {\n        vertical-align: top;\n    }\n\n    .dataframe thead th {\n        text-align: right;\n    }\n</style>\n<table border=\"1\" class=\"dataframe\">\n  <thead>\n    <tr style=\"text-align: right;\">\n      <th></th>\n      <th>Name</th>\n      <th>Job Titles</th>\n      <th>Department</th>\n      <th>Full or Part-Time</th>\n      <th>Salary or Hourly</th>\n      <th>Typical Hours</th>\n      <th>Annual Salary</th>\n      <th>Hourly Rate</th>\n    </tr>\n  </thead>\n  <tbody>\n    <tr>\n      <th>0</th>\n      <td>AARON,  JEFFERY M</td>\n      <td>SERGEANT</td>\n      <td>POLICE</td>\n      <td>F</td>\n      <td>Salary</td>\n      <td>NaN</td>\n      <td>101442.0</td>\n      <td>NaN</td>\n    </tr>\n    <tr>\n      <th>1</th>\n      <td>AARON,  KARINA</td>\n      <td>POLICE OFFICER (ASSIGNED AS DETECTIVE)</td>\n      <td>POLICE</td>\n      <td>F</td>\n      <td>Salary</td>\n      <td>NaN</td>\n      <td>94122.0</td>\n      <td>NaN</td>\n    </tr>\n    <tr>\n      <th>2</th>\n      <td>AARON,  KIMBERLEI R</td>\n      <td>CHIEF CONTRACT EXPEDITER</td>\n      <td>GENERAL SERVICES</td>\n      <td>F</td>\n      <td>Salary</td>\n      <td>NaN</td>\n      <td>101592.0</td>\n      <td>NaN</td>\n    </tr>\n    <tr>\n      <th>3</th>\n      <td>ABAD JR,  VICENTE M</td>\n      <td>CIVIL ENGINEER IV</td>\n      <td>WATER MGMNT</td>\n      <td>F</td>\n      <td>Salary</td>\n      <td>NaN</td>\n      <td>110064.0</td>\n      <td>NaN</td>\n    </tr>\n    <tr>\n      <th>4</th>\n      <td>ABASCAL,  REECE E</td>\n      <td>TRAFFIC CONTROL AIDE-HOURLY</td>\n      <td>OEMC</td>\n      <td>P</td>\n      <td>Hourly</td>\n      <td>20.0</td>\n      <td>NaN</td>\n      <td>19.86</td>\n    </tr>\n    <tr>\n      <th>...</th>\n      <td>...</td>\n      <td>...</td>\n      <td>...</td>\n      <td>...</td>\n      <td>...</td>\n      <td>...</td>\n      <td>...</td>\n      <td>...</td>\n    </tr>\n    <tr>\n      <th>33178</th>\n      <td>ZYLINSKA,  KATARZYNA</td>\n      <td>POLICE OFFICER</td>\n      <td>POLICE</td>\n      <td>F</td>\n      <td>Salary</td>\n      <td>NaN</td>\n      <td>72510.0</td>\n      <td>NaN</td>\n    </tr>\n    <tr>\n      <th>33179</th>\n      <td>ZYMANTAS,  LAURA C</td>\n      <td>POLICE OFFICER</td>\n      <td>POLICE</td>\n      <td>F</td>\n      <td>Salary</td>\n      <td>NaN</td>\n      <td>48078.0</td>\n      <td>NaN</td>\n    </tr>\n    <tr>\n      <th>33180</th>\n      <td>ZYMANTAS,  MARK E</td>\n      <td>POLICE OFFICER</td>\n      <td>POLICE</td>\n      <td>F</td>\n      <td>Salary</td>\n      <td>NaN</td>\n      <td>90024.0</td>\n      <td>NaN</td>\n    </tr>\n    <tr>\n      <th>33181</th>\n      <td>ZYRKOWSKI,  CARLO E</td>\n      <td>POLICE OFFICER</td>\n      <td>POLICE</td>\n      <td>F</td>\n      <td>Salary</td>\n      <td>NaN</td>\n      <td>93354.0</td>\n      <td>NaN</td>\n    </tr>\n    <tr>\n      <th>33182</th>\n      <td>ZYSKOWSKI,  DARIUSZ</td>\n      <td>CHIEF DATA BASE ANALYST</td>\n      <td>DoIT</td>\n      <td>F</td>\n      <td>Salary</td>\n      <td>NaN</td>\n      <td>115932.0</td>\n      <td>NaN</td>\n    </tr>\n  </tbody>\n</table>\n<p>33183 rows × 8 columns</p>\n</div>"
     },
     "execution_count": 5,
     "metadata": {},
     "output_type": "execute_result"
    }
   ],
   "source": [
    "# Your code here:\n",
    "salaries"
   ]
  },
  {
   "cell_type": "markdown",
   "metadata": {},
   "source": [
    "We see from looking at the `head` function that there is quite a bit of missing data. Let's examine how much missing data is in each column. Produce this output in the cell below"
   ]
  },
  {
   "cell_type": "code",
   "execution_count": 4,
   "metadata": {},
   "outputs": [
    {
     "name": "stdout",
     "output_type": "stream",
     "text": [
      "<class 'pandas.core.frame.DataFrame'>\n",
      "RangeIndex: 33183 entries, 0 to 33182\n",
      "Data columns (total 8 columns):\n",
      " #   Column             Non-Null Count  Dtype  \n",
      "---  ------             --------------  -----  \n",
      " 0   Name               33183 non-null  object \n",
      " 1   Job Titles         33183 non-null  object \n",
      " 2   Department         33183 non-null  object \n",
      " 3   Full or Part-Time  33183 non-null  object \n",
      " 4   Salary or Hourly   33183 non-null  object \n",
      " 5   Typical Hours      8022 non-null   float64\n",
      " 6   Annual Salary      25161 non-null  float64\n",
      " 7   Hourly Rate        8022 non-null   float64\n",
      "dtypes: float64(3), object(5)\n",
      "memory usage: 2.0+ MB\n"
     ]
    }
   ],
   "source": [
    "# Your code here:\n",
    "salaries.info()"
   ]
  },
  {
   "cell_type": "markdown",
   "metadata": {},
   "source": [
    "Let's also look at the count of hourly vs. salaried employees. Write the code in the cell below"
   ]
  },
  {
   "cell_type": "code",
   "execution_count": 11,
   "metadata": {},
   "outputs": [
    {
     "name": "stdout",
     "output_type": "stream",
     "text": [
      "25161\n",
      "8022\n"
     ]
    }
   ],
   "source": [
    "# Your code here:\n",
    "salaries[\"Salary or Hourly\"].count()\n",
    "print(salaries[\"Salary or Hourly\"][salaries[\"Salary or Hourly\"] == \"Salary\"].count())\n",
    "print(salaries[\"Salary or Hourly\"][salaries[\"Salary or Hourly\"] == \"Hourly\"].count())"
   ]
  },
  {
   "cell_type": "markdown",
   "metadata": {},
   "source": [
    "What this information indicates is that the table contains information about two types of employees - salaried and hourly. Some columns apply only to one type of employee while other columns only apply to another kind. This is why there are so many missing values. Therefore, we will not do anything to handle the missing values."
   ]
  },
  {
   "cell_type": "markdown",
   "metadata": {},
   "source": [
    "There are different departments in the city. List all departments and the count of employees in each department."
   ]
  },
  {
   "cell_type": "code",
   "execution_count": 12,
   "metadata": {},
   "outputs": [
    {
     "data": {
      "text/plain": "array(['POLICE', 'GENERAL SERVICES', 'WATER MGMNT', 'OEMC',\n       'CITY COUNCIL', 'AVIATION', 'STREETS & SAN', 'FIRE',\n       'FAMILY & SUPPORT', 'PUBLIC LIBRARY', 'TRANSPORTN',\n       \"MAYOR'S OFFICE\", 'HEALTH', 'BUSINESS AFFAIRS', 'LAW', 'FINANCE',\n       'CULTURAL AFFAIRS', 'COMMUNITY DEVELOPMENT', 'PROCUREMENT',\n       'BUILDINGS', 'ANIMAL CONTRL', 'CITY CLERK', 'BOARD OF ELECTION',\n       'DISABILITIES', 'HUMAN RESOURCES', 'DoIT', 'BUDGET & MGMT',\n       'TREASURER', 'INSPECTOR GEN', 'HUMAN RELATIONS', 'COPA',\n       'BOARD OF ETHICS', 'POLICE BOARD', 'ADMIN HEARNG',\n       'LICENSE APPL COMM'], dtype=object)"
     },
     "execution_count": 12,
     "metadata": {},
     "output_type": "execute_result"
    }
   ],
   "source": [
    "# Your code here:\n",
    "salaries[\"Department\"].unique()"
   ]
  },
  {
   "cell_type": "markdown",
   "metadata": {},
   "source": [
    "# Challenge 2 - Hypothesis Tests\n",
    "\n",
    "In this section of the lab, we will test whether the hourly wage of all hourly workers is significantly different from $30/hr. Import the correct one sample test function from scipy and perform the hypothesis test for a 95% two sided confidence interval."
   ]
  },
  {
   "cell_type": "markdown",
   "source": [
    "En esta sección de la práctica de laboratorio:\n",
    "\n",
    "Probaremos si el salario por hora de todos los trabajadores por hora:\n",
    "\n",
    "Es significativamente diferente de $30/hora.\n",
    "\n",
    "Importe \"one sample test function\" de scipy y:\n",
    "\n",
    "Realice la prueba de hipótesis para un intervalo de confianza bilateral del 95 %.\n"
   ],
   "metadata": {
    "collapsed": false,
    "pycharm": {
     "name": "#%% md\n"
    }
   }
  },
  {
   "cell_type": "code",
   "execution_count": 27,
   "metadata": {},
   "outputs": [
    {
     "data": {
      "text/plain": "1.8228873859286195e-94"
     },
     "execution_count": 27,
     "metadata": {},
     "output_type": "execute_result"
    }
   ],
   "source": [
    "# Your code here:\n",
    "import pylab as plt\n",
    "from scipy.stats import norm\n",
    "\n",
    "from scipy.stats import ttest_1samp\n",
    "\n",
    "# mu media poblacional\n",
    "# t_test=ttest_1samp(salaries[\"Hourly Rate\"][salaries[\"Salary or Hourly\"] == \"Hourly\"], 30, alternative='two-sided')\n",
    "from statsmodels.stats import weightstats as w\n",
    "\n",
    "z_score, p_value = w.ztest(salaries[\"Hourly Rate\"][salaries[\"Salary or Hourly\"] == \"Hourly\"], value=30, alternative='two-sided')\n",
    "\n",
    "p_value"
   ]
  },
  {
   "cell_type": "markdown",
   "metadata": {},
   "source": [
    "We are also curious about salaries in the police force. The chief of police in Chicago claimed in a press briefing that salaries this year are higher than last year's mean of $86000/year a year for all salaried employees. Test this one sided hypothesis using a 95% confidence interval.\n",
    "\n",
    "Hint: A one tailed test has a p-value that is half of the two tailed p-value. If our hypothesis is greater than, then to reject, the test statistic must also be positive."
   ]
  },
  {
   "cell_type": "markdown",
   "source": [
    "También tenemos curiosidad acerca de los salarios en la fuerza policial.\n",
    "El jefe de policía de Chicago afirmó en una conferencia de prensa que los salarios de este año\n",
    "son más altos que el promedio del año pasado de $ 86000 por año\n",
    "para todos los empleados asalariados.\n",
    "Pruebe esta hipótesis unilateral usando un intervalo de confianza del 95%.\n",
    "Sugerencia: una prueba de una cola tiene un valor p que es la mitad del valor p de dos colas.\n",
    "Si nuestra hipótesis es mayor que, entonces para rechazar, el estadístico de prueba también debe ser positivo"
   ],
   "metadata": {
    "collapsed": false,
    "pycharm": {
     "name": "#%% md\n"
    }
   }
  },
  {
   "cell_type": "code",
   "execution_count": 49,
   "metadata": {},
   "outputs": [
    {
     "data": {
      "text/plain": "0.0010280845287547855"
     },
     "execution_count": 49,
     "metadata": {},
     "output_type": "execute_result"
    }
   ],
   "source": [
    "# Your code here:\n",
    "z_score, p_value = w.ztest(salaries[\"Annual Salary\"][(salaries[\"Department\"] == \"POLICE\") & (salaries[\"Salary or Hourly\"] == \"Salary\")], value=86000, alternative='larger')\n",
    "\n",
    "p_value"
   ]
  },
  {
   "cell_type": "markdown",
   "metadata": {},
   "source": [
    "Using the `crosstab` function, find the department that has the most hourly workers. "
   ]
  },
  {
   "cell_type": "code",
   "execution_count": 42,
   "metadata": {},
   "outputs": [
    {
     "data": {
      "text/plain": "Salary or Hourly       Hourly  Salary\nDepartment                           \nSTREETS & SAN            1862     336\nWATER MGMNT              1513     366\nOEMC                     1273     829\nAVIATION                 1082     547\nGENERAL SERVICES          765     215\nTRANSPORTN                725     415\nPUBLIC LIBRARY            299     716\nFAMILY & SUPPORT          287     328\nCITY COUNCIL               64     347\nFINANCE                    44     516\nLAW                        40     367\nANIMAL CONTRL              19      62\nPOLICE                     10   13404\nMAYOR'S OFFICE              8      77\nBUSINESS AFFAIRS            7     164\nCULTURAL AFFAIRS            7      58\nCOMMUNITY DEVELOPMENT       4     203\nHUMAN RESOURCES             4      75\nHEALTH                      3     485\nPROCUREMENT                 2      90\nFIRE                        2    4639\nBUDGET & MGMT               2      44\nHUMAN RELATIONS             0      16\nINSPECTOR GEN               0      87\nDoIT                        0      99\nLICENSE APPL COMM           0       1\nDISABILITIES                0      28\nCOPA                        0     116\nCITY CLERK                  0      84\nPOLICE BOARD                0       2\nBUILDINGS                   0     269\nBOARD OF ETHICS             0       8\nBOARD OF ELECTION           0     107\nTREASURER                   0      22\nADMIN HEARNG                0      39",
      "text/html": "<div>\n<style scoped>\n    .dataframe tbody tr th:only-of-type {\n        vertical-align: middle;\n    }\n\n    .dataframe tbody tr th {\n        vertical-align: top;\n    }\n\n    .dataframe thead th {\n        text-align: right;\n    }\n</style>\n<table border=\"1\" class=\"dataframe\">\n  <thead>\n    <tr style=\"text-align: right;\">\n      <th>Salary or Hourly</th>\n      <th>Hourly</th>\n      <th>Salary</th>\n    </tr>\n    <tr>\n      <th>Department</th>\n      <th></th>\n      <th></th>\n    </tr>\n  </thead>\n  <tbody>\n    <tr>\n      <th>STREETS &amp; SAN</th>\n      <td>1862</td>\n      <td>336</td>\n    </tr>\n    <tr>\n      <th>WATER MGMNT</th>\n      <td>1513</td>\n      <td>366</td>\n    </tr>\n    <tr>\n      <th>OEMC</th>\n      <td>1273</td>\n      <td>829</td>\n    </tr>\n    <tr>\n      <th>AVIATION</th>\n      <td>1082</td>\n      <td>547</td>\n    </tr>\n    <tr>\n      <th>GENERAL SERVICES</th>\n      <td>765</td>\n      <td>215</td>\n    </tr>\n    <tr>\n      <th>TRANSPORTN</th>\n      <td>725</td>\n      <td>415</td>\n    </tr>\n    <tr>\n      <th>PUBLIC LIBRARY</th>\n      <td>299</td>\n      <td>716</td>\n    </tr>\n    <tr>\n      <th>FAMILY &amp; SUPPORT</th>\n      <td>287</td>\n      <td>328</td>\n    </tr>\n    <tr>\n      <th>CITY COUNCIL</th>\n      <td>64</td>\n      <td>347</td>\n    </tr>\n    <tr>\n      <th>FINANCE</th>\n      <td>44</td>\n      <td>516</td>\n    </tr>\n    <tr>\n      <th>LAW</th>\n      <td>40</td>\n      <td>367</td>\n    </tr>\n    <tr>\n      <th>ANIMAL CONTRL</th>\n      <td>19</td>\n      <td>62</td>\n    </tr>\n    <tr>\n      <th>POLICE</th>\n      <td>10</td>\n      <td>13404</td>\n    </tr>\n    <tr>\n      <th>MAYOR'S OFFICE</th>\n      <td>8</td>\n      <td>77</td>\n    </tr>\n    <tr>\n      <th>BUSINESS AFFAIRS</th>\n      <td>7</td>\n      <td>164</td>\n    </tr>\n    <tr>\n      <th>CULTURAL AFFAIRS</th>\n      <td>7</td>\n      <td>58</td>\n    </tr>\n    <tr>\n      <th>COMMUNITY DEVELOPMENT</th>\n      <td>4</td>\n      <td>203</td>\n    </tr>\n    <tr>\n      <th>HUMAN RESOURCES</th>\n      <td>4</td>\n      <td>75</td>\n    </tr>\n    <tr>\n      <th>HEALTH</th>\n      <td>3</td>\n      <td>485</td>\n    </tr>\n    <tr>\n      <th>PROCUREMENT</th>\n      <td>2</td>\n      <td>90</td>\n    </tr>\n    <tr>\n      <th>FIRE</th>\n      <td>2</td>\n      <td>4639</td>\n    </tr>\n    <tr>\n      <th>BUDGET &amp; MGMT</th>\n      <td>2</td>\n      <td>44</td>\n    </tr>\n    <tr>\n      <th>HUMAN RELATIONS</th>\n      <td>0</td>\n      <td>16</td>\n    </tr>\n    <tr>\n      <th>INSPECTOR GEN</th>\n      <td>0</td>\n      <td>87</td>\n    </tr>\n    <tr>\n      <th>DoIT</th>\n      <td>0</td>\n      <td>99</td>\n    </tr>\n    <tr>\n      <th>LICENSE APPL COMM</th>\n      <td>0</td>\n      <td>1</td>\n    </tr>\n    <tr>\n      <th>DISABILITIES</th>\n      <td>0</td>\n      <td>28</td>\n    </tr>\n    <tr>\n      <th>COPA</th>\n      <td>0</td>\n      <td>116</td>\n    </tr>\n    <tr>\n      <th>CITY CLERK</th>\n      <td>0</td>\n      <td>84</td>\n    </tr>\n    <tr>\n      <th>POLICE BOARD</th>\n      <td>0</td>\n      <td>2</td>\n    </tr>\n    <tr>\n      <th>BUILDINGS</th>\n      <td>0</td>\n      <td>269</td>\n    </tr>\n    <tr>\n      <th>BOARD OF ETHICS</th>\n      <td>0</td>\n      <td>8</td>\n    </tr>\n    <tr>\n      <th>BOARD OF ELECTION</th>\n      <td>0</td>\n      <td>107</td>\n    </tr>\n    <tr>\n      <th>TREASURER</th>\n      <td>0</td>\n      <td>22</td>\n    </tr>\n    <tr>\n      <th>ADMIN HEARNG</th>\n      <td>0</td>\n      <td>39</td>\n    </tr>\n  </tbody>\n</table>\n</div>"
     },
     "execution_count": 42,
     "metadata": {},
     "output_type": "execute_result"
    }
   ],
   "source": [
    "# Your code here:\n",
    "pd.crosstab(salaries[\"Department\"], salaries[\"Salary or Hourly\"]).sort_values(\"Hourly\", ascending=False)"
   ]
  },
  {
   "cell_type": "markdown",
   "metadata": {},
   "source": [
    "The workers from the department with the most hourly workers have complained that their hourly wage is less than $35/hour. Using a one sample t-test, test this one-sided hypothesis at the 95% confidence level."
   ]
  },
  {
   "cell_type": "code",
   "execution_count": null,
   "outputs": [],
   "source": [],
   "metadata": {
    "collapsed": false,
    "pycharm": {
     "name": "#%%\n"
    }
   }
  },
  {
   "cell_type": "markdown",
   "source": [
    "Los trabajadores del departamento con más trabajadores por hora:\n",
    "Se han quejado de que su salario por hora es inferior a $35/hora.\n",
    "Con una prueba t de una muestra, pruebe esta hipótesis unilateral con un nivel de confianza del 95 %."
   ],
   "metadata": {
    "collapsed": false,
    "pycharm": {
     "name": "#%% md\n"
    }
   }
  },
  {
   "cell_type": "code",
   "execution_count": 47,
   "metadata": {},
   "outputs": [
    {
     "data": {
      "text/plain": "Ttest_1sampResult(statistic=-9.567447887848152, pvalue=1.0)"
     },
     "execution_count": 47,
     "metadata": {},
     "output_type": "execute_result"
    }
   ],
   "source": [
    "# Your code here:\n",
    "t_test=ttest_1samp(salaries[\"Hourly Rate\"][(salaries[\"Department\"] == \"STREETS & SAN\") & (salaries[\"Salary or Hourly\"] == \"Hourly\")], 35, alternative='greater')\n",
    "t_test"
   ]
  },
  {
   "cell_type": "markdown",
   "metadata": {},
   "source": [
    "# Challenge 3 - Constructing Confidence Intervals\n",
    "\n",
    "While testing our hypothesis is a great way to gather empirical evidence for accepting or rejecting the hypothesis, another way to gather evidence is by creating a confidence interval. A confidence interval gives us information about the true mean of the population. So for a 95% confidence interval, we are 95% sure that the mean of the population is within the confidence interval. \n",
    ").\n",
    "\n",
    "To read more about confidence intervals, click [here](https://en.wikipedia.org/wiki/Confidence_interval).\n",
    "\n",
    "\n",
    "In the cell below, we will construct a 95% confidence interval for the mean hourly wage of all hourly workers. \n",
    "\n",
    "The confidence interval is computed in SciPy using the `t.interval` function. You can read more about this function [here](https://docs.scipy.org/doc/scipy-0.14.0/reference/generated/scipy.stats.t.html).\n",
    "\n",
    "To compute the confidence interval of the hourly wage, use the 0.95 for the confidence level, number of rows - 1 for degrees of freedom, the mean of the sample for the location parameter and the standard error for the scale. The standard error can be computed using [this](https://docs.scipy.org/doc/scipy/reference/generated/scipy.stats.sem.html) function in SciPy."
   ]
  },
  {
   "cell_type": "markdown",
   "source": [
    "\n",
    "En la siguiente celda, construiremos un intervalo de confianza del 95 % para el salario medio por hora de todos los trabajadores por hora.\n",
    "El intervalo de confianza se calcula en SciPy mediante la función t.interval.\n",
    "Puedes leer más sobre esta función aquí.\n",
    "Para calcular el intervalo de confianza del salario por hora, use el 0,95\n",
    "para el nivel de confianza, el número de filas - 1 para los grados de libertad, la media de la muestra para el parámetro de ubicación y el error estándar para la escala. El error estándar se puede calcular usando esta función en SciPy."
   ],
   "metadata": {
    "collapsed": false,
    "pycharm": {
     "name": "#%% md\n"
    }
   }
  },
  {
   "cell_type": "code",
   "execution_count": 74,
   "metadata": {},
   "outputs": [
    {
     "data": {
      "text/plain": "(32.52345834488529, 33.05365708767727)"
     },
     "execution_count": 74,
     "metadata": {},
     "output_type": "execute_result"
    }
   ],
   "source": [
    "# Your code here:\n",
    "from scipy.stats import t\n",
    "from scipy import stats\n",
    "stats.sem(salaries[\"Hourly Rate\"][salaries[\"Salary or Hourly\"] == \"Hourly\"], ddof=1)\n",
    "\n",
    "t.interval(0.95, salaries[\"Hourly Rate\"][salaries[\"Salary or Hourly\"] == \"Hourly\"].count() - 1, salaries[\"Hourly Rate\"][salaries[\"Salary or Hourly\"] == \"Hourly\"].mean(), scale=0.1352368565101596)\n",
    "\n"
   ]
  },
  {
   "cell_type": "markdown",
   "metadata": {},
   "source": [
    "Now construct the 95% confidence interval for all salaried employeed in the police in the cell below."
   ]
  },
  {
   "cell_type": "code",
   "execution_count": 77,
   "metadata": {},
   "outputs": [
    {
     "data": {
      "text/plain": "(86177.05631531784, 86795.77269094894)"
     },
     "execution_count": 77,
     "metadata": {},
     "output_type": "execute_result"
    }
   ],
   "source": [
    "# Your code here:\n",
    "stats.sem(salaries[\"Annual Salary\"][(salaries[\"Salary or Hourly\"] == \"Salary\") & (salaries[\"Department\"] == \"POLICE\")], ddof=1)\n",
    "\n",
    "t.interval(0.95, salaries[\"Annual Salary\"][(salaries[\"Salary or Hourly\"] == \"Salary\") & (salaries[\"Department\"] == \"POLICE\")].count() - 1, salaries[\"Annual Salary\"][(salaries[\"Salary or Hourly\"] == \"Salary\") & (salaries[\"Department\"] == \"POLICE\")].mean(), scale=157.82445675052244)"
   ]
  },
  {
   "cell_type": "markdown",
   "metadata": {},
   "source": [
    "# Challenge 4 - Hypothesis Tests of Proportions\n",
    "\n",
    "Another type of one sample test is a hypothesis test of proportions. In this test, we examine whether the proportion of a group in our sample is significantly different than a fraction. \n",
    "\n",
    "You can read more about one sample proportion tests [here](http://sphweb.bumc.bu.edu/otlt/MPH-Modules/BS/SAS/SAS6-CategoricalData/SAS6-CategoricalData2.html).\n",
    "\n",
    "In the cell below, use the `proportions_ztest` function from `statsmodels` to perform a hypothesis test that will determine whether the number of hourly workers in the City of Chicago is significantly different from 25% at the 95% confidence level."
   ]
  },
  {
   "cell_type": "markdown",
   "source": [
    "Otro tipo de prueba de una muestra es una prueba de hipótesis de proporciones.\n",
    "En esta prueba, examinamos si la proporción de un grupo en nuestra muestra\n",
    " es significativamente diferente a una fracción.\n",
    "\n",
    "Puede leer más sobre las pruebas de proporción de una muestra aquí.\n",
    "\n",
    "En la celda a continuación, use la función proporcions_ztest\n",
    "de statsmodels para realizar una prueba de hipótesis que determinará\n",
    "si la cantidad de trabajadores por hora en la ciudad de Chicago\n",
    "es significativamente diferente del 25 % con un nivel de confianza del 95 %."
   ],
   "metadata": {
    "collapsed": false,
    "pycharm": {
     "name": "#%% md\n"
    }
   }
  },
  {
   "cell_type": "code",
   "execution_count": 92,
   "metadata": {},
   "outputs": [
    {
     "name": "stdout",
     "output_type": "stream",
     "text": [
      "8022\n",
      "33183\n"
     ]
    },
    {
     "data": {
      "text/plain": "(-3.5099964213703005, 0.0004481127249057967)"
     },
     "execution_count": 92,
     "metadata": {},
     "output_type": "execute_result"
    }
   ],
   "source": [
    "# Your code here:\n",
    "from statsmodels.stats.proportion import proportions_ztest\n",
    "#salaries[\"Hourly Rate\"][salaries[\"Salary or Hourly\"] == \"Hourly\"]\n",
    "\n",
    "count = salaries[\"Hourly Rate\"][salaries[\"Salary or Hourly\"] == \"Hourly\"].count()\n",
    "nobs = len(salaries[\"Hourly Rate\"])\n",
    "\n",
    "stat, pval = proportions_ztest(count=count, nobs=nobs, value=0.25)\n",
    "\n",
    "stat, pval"
   ]
  },
  {
   "cell_type": "code",
   "execution_count": null,
   "outputs": [],
   "source": [],
   "metadata": {
    "collapsed": false,
    "pycharm": {
     "name": "#%%\n"
    }
   }
  }
 ],
 "metadata": {
  "kernelspec": {
   "display_name": "Python 3",
   "language": "python",
   "name": "python3"
  },
  "language_info": {
   "codemirror_mode": {
    "name": "ipython",
    "version": 3
   },
   "file_extension": ".py",
   "mimetype": "text/x-python",
   "name": "python",
   "nbconvert_exporter": "python",
   "pygments_lexer": "ipython3",
   "version": "3.7.3"
  }
 },
 "nbformat": 4,
 "nbformat_minor": 2
}